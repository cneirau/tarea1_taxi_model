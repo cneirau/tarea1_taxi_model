{
 "cells": [
  {
   "cell_type": "code",
   "execution_count": 1,
   "metadata": {},
   "outputs": [],
   "source": [
    "%load_ext autoreload\n",
    "%autoreload 2\n",
    "\n",
    "import sys\n",
    "sys.path.append(\"..\")\n",
    "\n",
    "import pandas as pd\n",
    "from scipy import stats\n",
    "\n",
    "from src.dataset import load_data\n",
    "from src.features import build_features, compare_distributions"
   ]
  },
  {
   "cell_type": "markdown",
   "metadata": {},
   "source": [
    "Code from here: https://github.com/shreyashankar/debugging-ml-talk/blob/main/nyc_taxi_2020.ipynb"
   ]
  },
  {
   "cell_type": "markdown",
   "metadata": {},
   "source": [
    "## Loading data"
   ]
  },
  {
   "cell_type": "code",
   "execution_count": 8,
   "metadata": {},
   "outputs": [],
   "source": [
    "taxi_jan = load_data(year=2020, month=1)\n",
    "taxi_feb = load_data(year=2020, month=2)\n",
    "taxi_mar = load_data(year=2020, month=3)"
   ]
  },
  {
   "cell_type": "code",
   "execution_count": 9,
   "metadata": {},
   "outputs": [
    {
     "data": {
      "text/plain": [
       "(6405008, 6299367, 3007687)"
      ]
     },
     "execution_count": 9,
     "metadata": {},
     "output_type": "execute_result"
    }
   ],
   "source": [
    "len(taxi_jan), len(taxi_feb), len(taxi_mar)"
   ]
  },
  {
   "cell_type": "markdown",
   "metadata": {},
   "source": [
    "## Pre-processing"
   ]
  },
  {
   "cell_type": "code",
   "execution_count": 10,
   "metadata": {},
   "outputs": [],
   "source": [
    "target_col = \"high_tip\"\n",
    "\n",
    "taxi_jan = build_features(taxi_jan.sample(100000), target_col)\n",
    "taxi_feb = build_features(taxi_feb.sample(100000), target_col)\n",
    "taxi_mar = build_features(taxi_mar.sample(100000), target_col)"
   ]
  },
  {
   "cell_type": "markdown",
   "metadata": {},
   "source": [
    "## Test distributions\n",
    "\n",
    "Maybe the distribution of data shifted. We could try to quantify this using a 2-sided statistical test (Kolmogorov Smirnov in this example).\n",
    "\n",
    "### Compare January 2020 vs February 2020\n",
    "\n",
    "The p values being small doesn't really tell us much, as we get very small p values when comparing January 2020 vs February 2020 even though we know the F1 score was similar. Curse \"big data.\""
   ]
  },
  {
   "cell_type": "code",
   "execution_count": 11,
   "metadata": {},
   "outputs": [
    {
     "data": {
      "text/html": [
       "<div>\n",
       "<style scoped>\n",
       "    .dataframe tbody tr th:only-of-type {\n",
       "        vertical-align: middle;\n",
       "    }\n",
       "\n",
       "    .dataframe tbody tr th {\n",
       "        vertical-align: top;\n",
       "    }\n",
       "\n",
       "    .dataframe thead th {\n",
       "        text-align: right;\n",
       "    }\n",
       "</style>\n",
       "<table border=\"1\" class=\"dataframe\">\n",
       "  <thead>\n",
       "    <tr style=\"text-align: right;\">\n",
       "      <th></th>\n",
       "      <th>feature</th>\n",
       "      <th>statistic</th>\n",
       "      <th>p_value</th>\n",
       "    </tr>\n",
       "  </thead>\n",
       "  <tbody>\n",
       "    <tr>\n",
       "      <th>0</th>\n",
       "      <td>pickup_weekday</td>\n",
       "      <td>0.046080</td>\n",
       "      <td>2.125802e-92</td>\n",
       "    </tr>\n",
       "    <tr>\n",
       "      <th>7</th>\n",
       "      <td>trip_speed</td>\n",
       "      <td>0.037129</td>\n",
       "      <td>3.954348e-60</td>\n",
       "    </tr>\n",
       "    <tr>\n",
       "      <th>2</th>\n",
       "      <td>work_hours</td>\n",
       "      <td>0.027175</td>\n",
       "      <td>2.085581e-32</td>\n",
       "    </tr>\n",
       "    <tr>\n",
       "      <th>6</th>\n",
       "      <td>trip_time</td>\n",
       "      <td>0.016521</td>\n",
       "      <td>3.024578e-12</td>\n",
       "    </tr>\n",
       "    <tr>\n",
       "      <th>1</th>\n",
       "      <td>pickup_hour</td>\n",
       "      <td>0.010214</td>\n",
       "      <td>6.046173e-05</td>\n",
       "    </tr>\n",
       "    <tr>\n",
       "      <th>5</th>\n",
       "      <td>trip_distance</td>\n",
       "      <td>0.007112</td>\n",
       "      <td>1.285560e-02</td>\n",
       "    </tr>\n",
       "    <tr>\n",
       "      <th>8</th>\n",
       "      <td>PULocationID</td>\n",
       "      <td>0.006554</td>\n",
       "      <td>2.752946e-02</td>\n",
       "    </tr>\n",
       "    <tr>\n",
       "      <th>4</th>\n",
       "      <td>passenger_count</td>\n",
       "      <td>0.004200</td>\n",
       "      <td>3.418365e-01</td>\n",
       "    </tr>\n",
       "    <tr>\n",
       "      <th>3</th>\n",
       "      <td>pickup_minute</td>\n",
       "      <td>0.003807</td>\n",
       "      <td>4.643608e-01</td>\n",
       "    </tr>\n",
       "    <tr>\n",
       "      <th>10</th>\n",
       "      <td>RatecodeID</td>\n",
       "      <td>0.003667</td>\n",
       "      <td>5.130590e-01</td>\n",
       "    </tr>\n",
       "    <tr>\n",
       "      <th>9</th>\n",
       "      <td>DOLocationID</td>\n",
       "      <td>0.003150</td>\n",
       "      <td>7.047251e-01</td>\n",
       "    </tr>\n",
       "  </tbody>\n",
       "</table>\n",
       "</div>"
      ],
      "text/plain": [
       "            feature  statistic       p_value\n",
       "0    pickup_weekday   0.046080  2.125802e-92\n",
       "7        trip_speed   0.037129  3.954348e-60\n",
       "2        work_hours   0.027175  2.085581e-32\n",
       "6         trip_time   0.016521  3.024578e-12\n",
       "1       pickup_hour   0.010214  6.046173e-05\n",
       "5     trip_distance   0.007112  1.285560e-02\n",
       "8      PULocationID   0.006554  2.752946e-02\n",
       "4   passenger_count   0.004200  3.418365e-01\n",
       "3     pickup_minute   0.003807  4.643608e-01\n",
       "10       RatecodeID   0.003667  5.130590e-01\n",
       "9      DOLocationID   0.003150  7.047251e-01"
      ]
     },
     "execution_count": 11,
     "metadata": {},
     "output_type": "execute_result"
    }
   ],
   "source": [
    "comparison_df = compare_distributions(taxi_jan, taxi_feb)\n",
    "comparison_df.sort_values(by='p_value', ascending=True).head(11)"
   ]
  },
  {
   "cell_type": "markdown",
   "metadata": {},
   "source": [
    "### Compare February 2020 vs March 2020\n",
    "\n",
    "These p values are also small, which is good? But if this method in general sends warning alerts all the time, an end user might not trust it."
   ]
  },
  {
   "cell_type": "code",
   "execution_count": 12,
   "metadata": {},
   "outputs": [
    {
     "data": {
      "text/html": [
       "<div>\n",
       "<style scoped>\n",
       "    .dataframe tbody tr th:only-of-type {\n",
       "        vertical-align: middle;\n",
       "    }\n",
       "\n",
       "    .dataframe tbody tr th {\n",
       "        vertical-align: top;\n",
       "    }\n",
       "\n",
       "    .dataframe thead th {\n",
       "        text-align: right;\n",
       "    }\n",
       "</style>\n",
       "<table border=\"1\" class=\"dataframe\">\n",
       "  <thead>\n",
       "    <tr style=\"text-align: right;\">\n",
       "      <th></th>\n",
       "      <th>feature</th>\n",
       "      <th>statistic</th>\n",
       "      <th>p_value</th>\n",
       "    </tr>\n",
       "  </thead>\n",
       "  <tbody>\n",
       "    <tr>\n",
       "      <th>7</th>\n",
       "      <td>trip_speed</td>\n",
       "      <td>0.064072</td>\n",
       "      <td>3.105431e-178</td>\n",
       "    </tr>\n",
       "    <tr>\n",
       "      <th>0</th>\n",
       "      <td>pickup_weekday</td>\n",
       "      <td>0.062678</td>\n",
       "      <td>1.423286e-170</td>\n",
       "    </tr>\n",
       "    <tr>\n",
       "      <th>2</th>\n",
       "      <td>work_hours</td>\n",
       "      <td>0.040001</td>\n",
       "      <td>1.073057e-69</td>\n",
       "    </tr>\n",
       "    <tr>\n",
       "      <th>1</th>\n",
       "      <td>pickup_hour</td>\n",
       "      <td>0.024876</td>\n",
       "      <td>3.273022e-27</td>\n",
       "    </tr>\n",
       "    <tr>\n",
       "      <th>5</th>\n",
       "      <td>trip_distance</td>\n",
       "      <td>0.024389</td>\n",
       "      <td>3.584463e-26</td>\n",
       "    </tr>\n",
       "    <tr>\n",
       "      <th>9</th>\n",
       "      <td>DOLocationID</td>\n",
       "      <td>0.021369</td>\n",
       "      <td>3.428756e-20</td>\n",
       "    </tr>\n",
       "    <tr>\n",
       "      <th>4</th>\n",
       "      <td>passenger_count</td>\n",
       "      <td>0.019488</td>\n",
       "      <td>7.279368e-17</td>\n",
       "    </tr>\n",
       "    <tr>\n",
       "      <th>6</th>\n",
       "      <td>trip_time</td>\n",
       "      <td>0.017820</td>\n",
       "      <td>3.585646e-14</td>\n",
       "    </tr>\n",
       "    <tr>\n",
       "      <th>8</th>\n",
       "      <td>PULocationID</td>\n",
       "      <td>0.011398</td>\n",
       "      <td>4.747640e-06</td>\n",
       "    </tr>\n",
       "    <tr>\n",
       "      <th>3</th>\n",
       "      <td>pickup_minute</td>\n",
       "      <td>0.004665</td>\n",
       "      <td>2.277731e-01</td>\n",
       "    </tr>\n",
       "    <tr>\n",
       "      <th>10</th>\n",
       "      <td>RatecodeID</td>\n",
       "      <td>0.004498</td>\n",
       "      <td>2.651135e-01</td>\n",
       "    </tr>\n",
       "  </tbody>\n",
       "</table>\n",
       "</div>"
      ],
      "text/plain": [
       "            feature  statistic        p_value\n",
       "7        trip_speed   0.064072  3.105431e-178\n",
       "0    pickup_weekday   0.062678  1.423286e-170\n",
       "2        work_hours   0.040001   1.073057e-69\n",
       "1       pickup_hour   0.024876   3.273022e-27\n",
       "5     trip_distance   0.024389   3.584463e-26\n",
       "9      DOLocationID   0.021369   3.428756e-20\n",
       "4   passenger_count   0.019488   7.279368e-17\n",
       "6         trip_time   0.017820   3.585646e-14\n",
       "8      PULocationID   0.011398   4.747640e-06\n",
       "3     pickup_minute   0.004665   2.277731e-01\n",
       "10       RatecodeID   0.004498   2.651135e-01"
      ]
     },
     "execution_count": 12,
     "metadata": {},
     "output_type": "execute_result"
    }
   ],
   "source": [
    "comparison_df = compare_distributions(taxi_feb, taxi_mar)\n",
    "comparison_df.sort_values(by='p_value', ascending=True).head(11)"
   ]
  }
 ],
 "metadata": {
  "kernelspec": {
   "display_name": ".venv",
   "language": "python",
   "name": "python3"
  },
  "language_info": {
   "codemirror_mode": {
    "name": "ipython",
    "version": 3
   },
   "file_extension": ".py",
   "mimetype": "text/x-python",
   "name": "python",
   "nbconvert_exporter": "python",
   "pygments_lexer": "ipython3",
   "version": "3.12.0"
  }
 },
 "nbformat": 4,
 "nbformat_minor": 2
}
